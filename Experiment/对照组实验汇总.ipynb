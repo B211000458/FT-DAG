{
 "cells": [
  {
   "cell_type": "code",
   "execution_count": 1,
   "metadata": {},
   "outputs": [],
   "source": [
    "import sys\n",
    "from _FIO import *\n",
    "from _GNM import *\n",
    "from _LBL import *\n",
    "from _SOTA import *\n",
    "from _buff.MainFrame_old import *\n",
    "sys.path.append('..')\n",
    "\n",
    "from MainHead import *"
   ]
  },
  {
   "cell_type": "markdown",
   "metadata": {},
   "source": [
    "## （1）GNM 实验"
   ]
  },
  {
   "cell_type": "code",
   "execution_count": 9,
   "metadata": {},
   "outputs": [
    {
     "name": "stdout",
     "output_type": "stream",
     "text": [
      "node_num:3\t--0.00018\t--8\n",
      "node_num:4\t--0.00056\t--64\n"
     ]
    }
   ],
   "source": [
    "for _n in range(3, 5):\n",
    "    _m = int(_n * (_n - 1) / 2)\n",
    "    _dag_num = 0\n",
    "    st = time.time()\n",
    "    for dagx in GNM_Dag_Generator(_n, 0, _m):\n",
    "        _dag_num += 1\n",
    "    et = time.time()\n",
    "    # print(f\"n:{_n}\\tdag_num{dag_num}\\ttime:{et - st:.6f}\")\n",
    "    print(f\"node_num:{_n}\\t--{et-st:.5f}\\t--{_dag_num}\")\n"
   ]
  },
  {
   "cell_type": "markdown",
   "metadata": {},
   "source": [
    "## （2）FIO 实验"
   ]
  },
  {
   "cell_type": "code",
   "execution_count": 10,
   "metadata": {},
   "outputs": [
    {
     "name": "stdout",
     "output_type": "stream",
     "text": [
      "node_num:3\t--0.04228\t--10\n",
      "node_num:4\t--0.00274\t--40\n",
      "node_num:5\t--0.01546\t--191\n",
      "node_num:6\t--0.17275\t--1058\n",
      "node_num:7\t--0.50073\t--5065\n",
      "node_num:8\t--2.95569\t--16650\n",
      "node_num:9\t--12.11961\t--45484\n"
     ]
    }
   ],
   "source": [
    "_id, _od, _ldiff = 1, 2, 4\n",
    "for nnum in range(3, 10):\n",
    "    dag_num = 0\n",
    "    _ld = max(1, nnum - _ldiff)\n",
    "\n",
    "    st = time.time()\n",
    "    for rdag in FanInFanOut(nnum, _id, _od, _ld):\n",
    "        dag_num += 1\n",
    "    et = time.time()\n",
    "\n",
    "    print(f\"node_num:{nnum}\\t--{et-st:.5f}\\t--{dag_num}\")\n"
   ]
  },
  {
   "cell_type": "markdown",
   "metadata": {},
   "source": [
    "## （3）LBL 实验"
   ]
  },
  {
   "cell_type": "code",
   "execution_count": 11,
   "metadata": {},
   "outputs": [
    {
     "name": "stdout",
     "output_type": "stream",
     "text": [
      "node_num:3\t--0.00000\t--0\n",
      "node_num:4\t--0.00090\t--1\n",
      "node_num:5\t--0.00591\t--16\n",
      "node_num:6\t--0.01383\t--64\n",
      "node_num:7\t--0.04003\t--256\n",
      "node_num:8\t--0.14381\t--1024\n",
      "node_num:9\t--0.71201\t--4096\n"
     ]
    }
   ],
   "source": [
    "_lx = 4\n",
    "_ldx, _lux = _lx, _lx\n",
    "for nnum in range(3, 10):\n",
    "    shape_num, dag_num, _max_s, sd, su = 0, 0, nnum - _lx + 1, 1, nnum\n",
    "    st = time.time()\n",
    "    for __s in TempShape(nnum, _max_s, _ldx, _lux , sd, su, nnum - 1, nnum - 1):            \n",
    "        sdag = nx.DiGraph()\n",
    "        sdag.add_nodes_from([(__i, {'d': 1}) for __i in range(__s[0])])\n",
    "        if len(__s) == 1:\n",
    "            rdag = nx.DiGraph(sdag)\n",
    "            dag_num += 1\n",
    "        elif len(__s) > 1:\n",
    "            for rdag in LBL_Dag_Generator(sdag, __s[1:], 2):\n",
    "                dag_num += 1\n",
    "        else:\n",
    "            assert False\n",
    "    et = time.time()\n",
    "    # print(f\"{nnum}_\\t{shape_num}_\\t{et - st :.6f}_\\t{rdag_num}\")\n",
    "    print(f\"node_num:{nnum}\\t--{et-st:.5f}\\t--{dag_num}\")\n"
   ]
  },
  {
   "cell_type": "markdown",
   "metadata": {},
   "source": [
    "## （4）SOTA 实验"
   ]
  },
  {
   "cell_type": "code",
   "execution_count": 2,
   "metadata": {},
   "outputs": [
    {
     "name": "stdout",
     "output_type": "stream",
     "text": [
      "node_num:3\t--0.00001\t--0\n",
      "node_num:4\t--0.00578\t--1\n",
      "node_num:5\t--0.01214\t--7\n",
      "node_num:6\t--0.07669\t--39\n",
      "node_num:7\t--0.47884\t--153\n",
      "node_num:8\t--1.92092\t--464\n",
      "node_num:9\t--6.20429\t--1176\n"
     ]
    }
   ],
   "source": [
    "_x = 4\n",
    "for nnum in range(3, 10):\n",
    "    s_num, dag_num = 0, 0\n",
    "    _wd, _wu = _x, _x\n",
    "    _sd, _su = 1, min(nnum, _wu)\n",
    "    _ld, _lu = nnum - _x + 1, nnum - _x + 1\n",
    "\n",
    "    st = time.time()\n",
    "    for __s in NSG(nnum, (_ld, _lu), (_sd, _su), (0, int(pow(nnum, 2) / 4)), nnum - 1, nnum - 1):                                 \n",
    "        __s = (1,) + __s + (1,)\n",
    "        for dagx in gen_mine_new(__s):\n",
    "            cdagx = nx.transitive_closure_dag(dagx)  \n",
    "            w_dag = width_of_dag(cdagx)\n",
    "            if _wd <= w_dag <= _wu:\n",
    "                dag_num += 1\n",
    "\n",
    "    et = time.time()\n",
    "    print(f\"node_num:{nnum}\\t--{et-st:.5f}\\t--{dag_num}\")"
   ]
  }
 ],
 "metadata": {
  "kernelspec": {
   "display_name": "base",
   "language": "python",
   "name": "python3"
  },
  "language_info": {
   "codemirror_mode": {
    "name": "ipython",
    "version": 3
   },
   "file_extension": ".py",
   "mimetype": "text/x-python",
   "name": "python",
   "nbconvert_exporter": "python",
   "pygments_lexer": "ipython3",
   "version": "3.12.2"
  }
 },
 "nbformat": 4,
 "nbformat_minor": 2
}
